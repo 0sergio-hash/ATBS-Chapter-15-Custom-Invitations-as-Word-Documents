{
 "cells": [
  {
   "cell_type": "markdown",
   "metadata": {},
   "source": [
    "# [Instructions for this project](https://automatetheboringstuff.com/2e/chapter15/)"
   ]
  },
  {
   "cell_type": "code",
   "execution_count": 1,
   "metadata": {},
   "outputs": [],
   "source": [
    "# Practice Project: Custom Invitations as Word Documents\n",
    "\n",
    "def genInvites(guestListDoc, wordDoc):\n",
    "    \n",
    "    # Import libraries\n",
    "    import logging # Debugger\n",
    "    import docx\n",
    "    \n",
    "    logging.basicConfig(level=logging.DEBUG, format='%(asctime)s - %(levelname)s - %(message)s')\n",
    "    \n",
    "    # Start debugger\n",
    "    logging.debug('Start of program')\n",
    "    \n",
    "    # DEBUG guestList variable\n",
    "    logging.debug(f'guestListDoc variable is:{guestListDoc}')\n",
    "    \n",
    "    # DEBUG wordDoc variable  \n",
    "    logging.debug(f'wordDoc variable is:{wordDoc}')\n",
    "    \n",
    "    # Open text doc, create a list of guests using readlines\n",
    "    guestList = []\n",
    "        \n",
    "    listDoc = open(guestListDoc)\n",
    "        \n",
    "    # Loop over lines using readlines() \n",
    "    listDocLines = listDoc.readlines()\n",
    "    \n",
    "    for line in listDocLines: #for each line:\n",
    "        line = line.strip('\\n')\n",
    "        guestList.append(line)\n",
    "\n",
    "    # DEBUG final guestList variable\n",
    "    logging.debug(f'guestList variable is:{guestList}')\n",
    "    \n",
    "    # Open word doc\n",
    "    doc = docx.Document(wordDoc)\n",
    "     \n",
    "    # Define runs and scripts dictionaries\n",
    "    runsDict = {1:'It would be a pleasure to have the company of',3:'At 11010 Memory Lane on the evening of',4:'April 1st',5:'at 7 o’clock'}\n",
    "    \n",
    "    stylesDict = {1:'ScriptStyle',2:'GuestStyle',3:'ScriptStyle',4:'DateStyle',5:'ScriptStyle'}\n",
    "    \n",
    "    # Iterate over list of guests\n",
    "    for guestName in guestList:\n",
    "        \n",
    "        # First paragraph\n",
    "        paraObj1 = doc.add_paragraph(runsDict[1])\n",
    "        paraObj1.style = stylesDict[1]\n",
    "        \n",
    "        # Second paragraph\n",
    "        paraObj2 = doc.add_paragraph(guestName)\n",
    "        paraObj2.style = stylesDict[2]\n",
    "        \n",
    "        # Third paragraph\n",
    "        paraObj3 = doc.add_paragraph(runsDict[3])\n",
    "        paraObj3.style = stylesDict[3]\n",
    "\n",
    "        # Fourth paragraph\n",
    "        paraObj4 = doc.add_paragraph(runsDict[4])\n",
    "        paraObj4.style = stylesDict[4]\n",
    "        \n",
    "        # Fifth paragraph\n",
    "        paraObj5 = doc.add_paragraph(runsDict[5])\n",
    "        paraObj5.style = stylesDict[5]\n",
    "        \n",
    "        # Add page break\n",
    "        paraObj5.runs[0].add_break(docx.enum.text.WD_BREAK.PAGE)\n",
    "    \n",
    "    # Save word doc\n",
    "    newFileName = f'Invites_{wordDoc}'\n",
    "    doc.save(newFileName)\n",
    "    \n",
    "    # Close text file\n",
    "    listDoc.close()\n",
    "    \n",
    "    # Print success message\n",
    "    print('Invites made!')\n",
    "    \n",
    "    # DEBUG end of program\n",
    "    logging.debug('End of program.')"
   ]
  },
  {
   "cell_type": "code",
   "execution_count": 2,
   "metadata": {},
   "outputs": [
    {
     "name": "stderr",
     "output_type": "stream",
     "text": [
      "2021-09-19 13:34:08,422 - DEBUG - Start of program\n",
      "2021-09-19 13:34:08,430 - DEBUG - guestListDoc variable is:guests.txt\n",
      "2021-09-19 13:34:08,431 - DEBUG - wordDoc variable is:guests.docx\n",
      "2021-09-19 13:34:08,433 - DEBUG - guestList variable is:['Prof. Plum', 'Miss Scarlet', 'Col. Mustard', 'Al Sweigart', 'Robocop']\n",
      "2021-09-19 13:34:08,489 - DEBUG - End of program.\n"
     ]
    },
    {
     "name": "stdout",
     "output_type": "stream",
     "text": [
      "Invites made!\n"
     ]
    }
   ],
   "source": [
    "genInvites('guests.txt', 'guests.docx')"
   ]
  }
 ],
 "metadata": {
  "kernelspec": {
   "display_name": "ibm_project",
   "language": "python",
   "name": "ibm_project"
  },
  "language_info": {
   "codemirror_mode": {
    "name": "ipython",
    "version": 3
   },
   "file_extension": ".py",
   "mimetype": "text/x-python",
   "name": "python",
   "nbconvert_exporter": "python",
   "pygments_lexer": "ipython3",
   "version": "3.7.9"
  }
 },
 "nbformat": 4,
 "nbformat_minor": 4
}
